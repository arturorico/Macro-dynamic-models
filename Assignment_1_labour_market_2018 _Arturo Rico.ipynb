{
 "cells": [
  {
   "cell_type": "markdown",
   "metadata": {},
   "source": [
    "# Intermediate Macroeconomics - Labour market effects\n",
    "\n",
    "In this assignment, we consider the classical model of the labour market as we discussed in chapter 6 of the book.\n",
    "\n",
    "We first import some libraries."
   ]
  },
  {
   "cell_type": "code",
   "execution_count": 1,
   "metadata": {},
   "outputs": [],
   "source": [
    "from scipy import optimize,arange\n",
    "from numpy import array\n",
    "import matplotlib.pyplot as plt\n",
    "%matplotlib inline"
   ]
  },
  {
   "cell_type": "markdown",
   "metadata": {},
   "source": [
    "# The production function\n",
    "\n",
    "In the first tutorial, exercise 2, you worked with the Cobb Douglas production function. In Python, this function can be written as:"
   ]
  },
  {
   "cell_type": "code",
   "execution_count": 2,
   "metadata": {},
   "outputs": [],
   "source": [
    "def production_function(K,L,gamma):\n",
    "    return A*K**gamma*L**(1-gamma)"
   ]
  },
  {
   "cell_type": "markdown",
   "metadata": {},
   "source": [
    "However, in this assignment, we use a standard CES production function:\n",
    "\n",
    "$$\n",
    "Y = (\\alpha K^\\gamma + (1-\\alpha) L^\\gamma)^{1/\\gamma}\n",
    "$$\n",
    "\n",
    "where $\\gamma$ ≤1. When using this function, the substitution elasticity between capital and labour is equal to 1/(1-$\\gamma$), so the higher $\\gamma$ is, the more labour and capital can be substituted for each other.\n",
    "\n"
   ]
  },
  {
   "cell_type": "markdown",
   "metadata": {},
   "source": [
    "** Exercise**\n",
    "\n",
    "Define again the function `production_function(K,L,gamma)` but now for the CES case:\n"
   ]
  },
  {
   "cell_type": "code",
   "execution_count": 3,
   "metadata": {},
   "outputs": [],
   "source": [
    "def production_function(K,L,gamma):\n",
    "    return ((alpha*(K**gamma))+((1-alpha)*L**gamma))**(1/gamma)"
   ]
  },
  {
   "cell_type": "markdown",
   "metadata": {},
   "source": [
    "From this production function we derive labour demand with parameter values $\\alpha =0.25, \\beta =0.1, K=1$.\n"
   ]
  },
  {
   "cell_type": "code",
   "execution_count": 4,
   "metadata": {},
   "outputs": [],
   "source": [
    "alpha = 0.25\n",
    "beta = 0.1\n",
    "K = 1\n",
    "\n",
    "\n",
    "def labour_demand(gamma,real_wage):\n",
    "    labour =  optimize.fminbound(lambda l: -(production_function(K,l,gamma)-real_wage*l),0,100,full_output=1)\n",
    "    return labour[0]\n",
    "\n"
   ]
  },
  {
   "cell_type": "markdown",
   "metadata": {},
   "source": [
    "** Exercise** \n",
    "\n",
    "Give the Python code for the labour supply function as it was specified in the tutorial exercise:"
   ]
  },
  {
   "cell_type": "code",
   "execution_count": 5,
   "metadata": {},
   "outputs": [],
   "source": [
    "def labour_supply(real_wage):\n",
    "    return real_wage**beta"
   ]
  },
  {
   "cell_type": "markdown",
   "metadata": {},
   "source": [
    "** Exercise**\n",
    "\n",
    "Complete the code cell below to plot labour demand and labour supply as a function of the real wage $W/P$, assuming $\\gamma$ has the value -10. Make sure that you specify $W/P$ as label on the y-axis and $L$ as label on the x-axis.\n",
    "\n"
   ]
  },
  {
   "cell_type": "code",
   "execution_count": 6,
   "metadata": {
    "scrolled": true
   },
   "outputs": [
    {
     "data": {
      "image/png": "[encoded data removed]",
      "text/plain": [
       "<matplotlib.figure.Figure at 0x7f5468da0438>"
      ]
     },
     "metadata": {},
     "output_type": "display_data"
    }
   ],
   "source": [
    "gamma = -10\n",
    "\n",
    "range_realwage = arange(0.01,1.0,0.01)\n",
    "range_demand = arange(0.01,100.0,0.01)\n",
    "range_supply = arange(0.01,100.0,0.01)\n",
    "\n",
    "plt.plot([labour_supply(real_wage) for real_wage in range_realwage], range_realwage, color='blue')\n",
    "plt.plot([labour_demand(gamma,real_wage) for real_wage in range_realwage], range_realwage, color='red')\n",
    "plt.xlabel(\"L\")\n",
    "plt.ylabel(\"W/P\")\n",
    "plt.title(\"Demand and Supply in the Labour market\")\n",
    "plt.show()"
   ]
  },
  {
   "cell_type": "markdown",
   "metadata": {},
   "source": [
    "We can solve for the equilibrium value.\n",
    "\n"
   ]
  },
  {
   "cell_type": "code",
   "execution_count": 7,
   "metadata": {},
   "outputs": [
    {
     "name": "stdout",
     "output_type": "stream",
     "text": [
      "[0.79474529]\n"
     ]
    }
   ],
   "source": [
    "initial_guess = 0.8\n",
    "realwage0=optimize.fsolve(lambda w: labour_demand(gamma,w)-labour_supply(w), initial_guess)\n",
    "print(realwage0)"
   ]
  },
  {
   "cell_type": "markdown",
   "metadata": {},
   "source": [
    "** Exercise **\n",
    "\n",
    "Calculate the equilibrium values of labour $L$, real wage $W/P$ and output $Y$."
   ]
  },
  {
   "cell_type": "code",
   "execution_count": 8,
   "metadata": {},
   "outputs": [
    {
     "name": "stdout",
     "output_type": "stream",
     "text": [
      "[0.97728852]\n",
      "[0.98245017]\n"
     ]
    }
   ],
   "source": [
    "L0=labour_demand(gamma,realwage0) #L=0.9765\n",
    "print(L0)\n",
    "#Optimal real wage was calculated in the previous cell. (W/P)*=0.7947\n",
    "Y0=production_function(K,L0,gamma) #Y\n",
    "print(Y0)"
   ]
  },
  {
   "cell_type": "markdown",
   "metadata": {},
   "source": [
    "# The AS-curve"
   ]
  },
  {
   "cell_type": "markdown",
   "metadata": {},
   "source": [
    "Assume that the nominal wage $W$ is fixed at the level 2. We would like to plot the aggregate supply curve, that is: output $Y$ as a function of $P$."
   ]
  },
  {
   "cell_type": "code",
   "execution_count": 9,
   "metadata": {},
   "outputs": [],
   "source": [
    "W = 2\n",
    "\n",
    "def labour_out_of_equilibrium(P,gamma):\n",
    "    l = min(labour_demand(gamma,W/P), labour_supply(W/P))\n",
    "    return l"
   ]
  },
  {
   "cell_type": "code",
   "execution_count": 10,
   "metadata": {},
   "outputs": [
    {
     "name": "stdout",
     "output_type": "stream",
     "text": [
      "[2.51652954]\n"
     ]
    }
   ],
   "source": [
    "Price = W/realwage0\n",
    "print(Price)"
   ]
  },
  {
   "cell_type": "markdown",
   "metadata": {},
   "source": [
    "---\n",
    "\n",
    "**Exercise**\n",
    "\n",
    "1.  Explain the code above.\n",
    "2.  Plot output $Y$ as a function of $P$ (for values of P between 2 and 3).\n",
    "\n",
    "---"
   ]
  },
  {
   "cell_type": "markdown",
   "metadata": {},
   "source": [
    "1.\n",
    "A nominal wage of two is imposed. The code above computes the lowest value between labour demand and labour supply for different price levels.\n",
    "The eq. price (computed above) is 2.5165. When the price is higher real wage is lower and the supply of workers is lower than the demand. The function will then choose that value as the labour out of equilibrium. The opposite happens when the price is lower than 2.5165. "
   ]
  },
  {
   "cell_type": "code",
   "execution_count": 11,
   "metadata": {},
   "outputs": [
    {
     "data": {
      "text/plain": [
       "<matplotlib.text.Text at 0x7f543c993390>"
      ]
     },
     "execution_count": 11,
     "metadata": {},
     "output_type": "execute_result"
    },
    {
     "data": {
      "image/png": "[encoded data removed]",
      "text/plain": [
       "<matplotlib.figure.Figure at 0x7f543caaae48>"
      ]
     },
     "metadata": {},
     "output_type": "display_data"
    }
   ],
   "source": [
    "def labour_demand2(gamma,P):\n",
    "    labour = optimize.fminbound(lambda l: -(production_function(K,l,gamma)-(W/P)*l),0,100,full_output=1)\n",
    "    return labour[0]\n",
    "def SRAS(gamma,P):\n",
    "    Y = ((alpha*(K**gamma))+((1-alpha)*labour_demand2(gamma,P)**gamma))**(1/gamma)\n",
    "    #return Y\n",
    "range_price = arange(2.0,3.1,0.1)\n",
    "plt.plot([SRAS(gamma,P) for P in range_price], range_price, color='yellow')\n",
    "plt.show\n",
    "plt.xlabel(\"Y\")\n",
    "plt.ylabel(\"P\")\n",
    "plt.title(\"Short Run AS curve\")\n",
    "#I could not get this one right. But I tried."
   ]
  },
  {
   "cell_type": "markdown",
   "metadata": {},
   "source": [
    "# Taxation"
   ]
  },
  {
   "cell_type": "markdown",
   "metadata": {},
   "source": [
    "In this framework, we can introduce taxation as we also did in the tutorial exercise. With a social security tax $t_{worker}$, labour demand gets a different form.\n"
   ]
  },
  {
   "cell_type": "markdown",
   "metadata": {},
   "source": [
    "** Exercise**\n",
    "\n",
    "Adjust the code above by including a social security tax."
   ]
  },
  {
   "cell_type": "code",
   "execution_count": 12,
   "metadata": {},
   "outputs": [],
   "source": [
    "def labour_demand(gamma,real_wage):\n",
    "    labour =  optimize.fminbound(lambda l: -(production_function(K,l,gamma)-(real_wage*(1+t_worker))*l),0,100,full_output=1)\n",
    "    return labour[0]"
   ]
  },
  {
   "cell_type": "markdown",
   "metadata": {
    "collapsed": true
   },
   "source": [
    "---\n",
    "\n",
    "**Exercise**\n",
    "\n",
    "1.  Calculate the equilibrium employment and output levels for `t_worker = 0` and `t_worker = 0.2` at $\\gamma = -10$.\n",
    "2.  Do the same for $\\gamma = -1$ and discuss the difference with the case of $\\gamma = -10$, that is: by what percentage do the real wage, labour and production change due to the social security tax in both cases? What can explain this difference?\n",
    "\n",
    "---\n"
   ]
  },
  {
   "cell_type": "code",
   "execution_count": 13,
   "metadata": {},
   "outputs": [
    {
     "name": "stdout",
     "output_type": "stream",
     "text": [
      "[0.68418096]\n",
      "[0.96275792]\n",
      "[0.97070888]\n"
     ]
    }
   ],
   "source": [
    "#equilibrium employment and output levels for t_worker = 0, at  γ=−10. Were already computed in the previous exercises.\n",
    "#for t_worker = 0.2 at  γ=−10:\n",
    "gamma=-10\n",
    "t_worker=0.2\n",
    "initial_guess = 0.8\n",
    "realwage1 = optimize.fsolve(lambda w: labour_demand(gamma,w)-labour_supply(w), initial_guess)\n",
    "print(realwage1)# realwage=0.68418096\n",
    "L1=labour_demand(gamma,realwage1) #L=0.96275792\n",
    "print(L1)\n",
    "#Optimal real wage was calculated in the previous cell. (W/P)*=0.7947\n",
    "Y1=production_function(K,L1,gamma) #Y=0.98245017\n",
    "print(Y1)\n"
   ]
  },
  {
   "cell_type": "code",
   "execution_count": 14,
   "metadata": {},
   "outputs": [
    {
     "name": "stdout",
     "output_type": "stream",
     "text": [
      "[0.76024348]\n",
      "[0.97296064]\n",
      "[0.97958246]\n"
     ]
    }
   ],
   "source": [
    "#For t_worker = 0 at γ=−1:\n",
    "t_worker = 0\n",
    "gamma = -1\n",
    "initial_guess = 0.8\n",
    "realwage2 = optimize.fsolve(lambda w: labour_demand(gamma,w)-labour_supply(w), initial_guess)\n",
    "print(realwage2)# realwage=0.76024348\n",
    "L2=labour_demand(gamma,realwage2) #L=0.97296064\n",
    "print(L2)\n",
    "#Optimal real wage was calculated in the previous cell. (W/P)*=0.7947\n",
    "Y2=production_function(K,L2,gamma) #Y=0.98286912\n",
    "print(Y2)\n"
   ]
  },
  {
   "cell_type": "code",
   "execution_count": 15,
   "metadata": {},
   "outputs": [
    {
     "name": "stdout",
     "output_type": "stream",
     "text": [
      "[0.63891859]\n",
      "[0.95619078]\n",
      "[0.96677924]\n"
     ]
    }
   ],
   "source": [
    "#For t_worker = 0.2 at γ=−1:\n",
    "t_worker = 0.2\n",
    "gamma = -1\n",
    "initial_guess = 0.8\n",
    "realwage3 = optimize.fsolve(lambda w: labour_demand(gamma,w)-labour_supply(w), initial_guess)\n",
    "print(realwage3)# realwage=0.76024348\n",
    "L3=labour_demand(gamma,realwage3) #L=0.97296064\n",
    "print(L3)\n",
    "#Optimal real wage was calculated in the previous cell. (W/P)*=0.7947\n",
    "Y3=production_function(K,L3,gamma) #Y=0.98286912\n",
    "print(Y3)"
   ]
  },
  {
   "cell_type": "code",
   "execution_count": 16,
   "metadata": {},
   "outputs": [
    {
     "name": "stdout",
     "output_type": "stream",
     "text": [
      "[-0.0145306]\n",
      "[-0.01174129]\n",
      "[-0.01676986]\n",
      "[-0.01280322]\n",
      "[15.4106124]\n",
      "[9.04436431]\n"
     ]
    }
   ],
   "source": [
    "#For γ=−10\n",
    "changeL0=L1-L0\n",
    "print(changeL0)\n",
    "changeY0=Y1-Y0\n",
    "print(changeY0)\n",
    "\n",
    "#For γ=−1\n",
    "changeL1=L3-L2\n",
    "print(changeL1)\n",
    "changeY1=Y3-Y2\n",
    "print(changeY1)\n",
    "\n",
    "#Comparing changes for γ=−10 and γ=−1\n",
    "perchangeL=((changeL1-changeL0)/changeL0)*100\n",
    "print(perchangeL)\n",
    "perchangeY=((changeY1-changeY0)/changeY0)*100\n",
    "print(perchangeY)\n"
   ]
  },
  {
   "cell_type": "markdown",
   "metadata": {},
   "source": [
    "To put the impact of the social security tax into perspectiv:\n",
    "Given that the substitution elasticity between capital and labour is equal to 0.09, the change of optiml labour is -0.0145 and -0.01174 for the equilibrium product, when the tax of 0.2 is imposed.\n",
    "Given that the substitution elasticity between capital and labour is Infinite (1/1-(-1)), the change of optiml labour is -0.016769 and -0.0128 for the equilibrium product, when the tax of 0.2 is imposed.\n",
    "The change that the substitution elasticity represents over the impact of adding the tax for optimal Labor in percentage change is 15.4106124.\n",
    "The change that the substitution elasticity (from infinite to 0.09) represents over the impact of adding the tax for optimal Labor in percentage change is 15.4106124%.\n",
    "The change that the substitution elasticity (from infinite to 0.09) represents over the impact of adding the tax for optimal output in percentage change is 9.04436431%.\n",
    "\n",
    "Basically, when γ gets closer to -1 from -infinite, the substitution elasticity between labour and capital gets higher. Which means that a change in the price of labour (real wage), makes the demand of labour every time lower and the amount of capital higher. We set a capital of 1. So a higher elasticity makes the impact of the tax stronger in the labour market. "
   ]
  },
  {
   "cell_type": "markdown",
   "metadata": {},
   "source": [
    "-------"
   ]
  },
  {
   "cell_type": "markdown",
   "metadata": {},
   "source": [
    "I had tons of fun and I learned a lot. Thank you."
   ]
  }
 ],
 "metadata": {
  "kernelspec": {
   "display_name": "Python 3",
   "language": "python",
   "name": "python3"
  },
  "language_info": {
   "codemirror_mode": {
    "name": "ipython",
    "version": 3
   },
   "file_extension": ".py",
   "mimetype": "text/x-python",
   "name": "python",
   "nbconvert_exporter": "python",
   "pygments_lexer": "ipython3",
   "version": "3.5.3"
  },
  "org": null
 },
 "nbformat": 4,
 "nbformat_minor": 1
}
