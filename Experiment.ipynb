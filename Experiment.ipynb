{
 "cells": [
  {
   "cell_type": "code",
   "execution_count": 1,
   "metadata": {},
   "outputs": [],
   "source": [
    "from scipy import optimize,arange\n",
    "from numpy import array\n",
    "import matplotlib.pyplot as plt\n",
    "%matplotlib inline"
   ]
  },
  {
   "cell_type": "code",
   "execution_count": 2,
   "metadata": {},
   "outputs": [],
   "source": [
    "import scipy\n",
    "import numpy as np"
   ]
  },
  {
   "cell_type": "code",
   "execution_count": 3,
   "metadata": {},
   "outputs": [
    {
     "name": "stdout",
     "output_type": "stream",
     "text": [
      "9.999978852724889\n"
     ]
    }
   ],
   "source": [
    "import math\n",
    "logm=np.log(22026)\n",
    "print(logm)"
   ]
  },
  {
   "cell_type": "code",
   "execution_count": 4,
   "metadata": {},
   "outputs": [],
   "source": [
    "#VAR\n",
    "iw=1\n",
    "Yw=100\n",
    "pw=1\n",
    "Ylr=10\n",
    "pe=8\n",
    "m=10\n",
    "\n",
    "\n",
    "def equations(f):\n",
    "    Y=f[0]\n",
    "    e=f[1]\n",
    "    p=f[2]\n",
    "        \n",
    "    i=iw\n",
    "    T=2\n",
    "    C=5+0.5*(Y-T)\n",
    "    I=6-2*i\n",
    "    G=2\n",
    "    EX=0.1*Yw+(2*(e+pw-p))\n",
    "    IM=0.1*(Y-T)-(3*(e+pw-p))\n",
    "    logL=0.5*Y-3*i\n",
    "    \n",
    "    return (m-p-logL,Y-Ylr-((p-pe)/3),Y-C-I-G-EX+IM)\n",
    "    "
   ]
  },
  {
   "cell_type": "code",
   "execution_count": 5,
   "metadata": {},
   "outputs": [
    {
     "name": "stdout",
     "output_type": "stream",
     "text": [
      "[10.    4.16  8.  ]\n",
      "(0.0, 0.0, 0.0)\n"
     ]
    }
   ],
   "source": [
    "from scipy.optimize import fsolve\n",
    "Q=fsolve(equations,(100,1,1))\n",
    "equations(Q)\n",
    "print(Q)\n",
    "print(equations(Q))"
   ]
  },
  {
   "cell_type": "code",
   "execution_count": 6,
   "metadata": {},
   "outputs": [
    {
     "name": "stdout",
     "output_type": "stream",
     "text": [
      "Help on function fsolve in module scipy.optimize.minpack:\n",
      "\n",
      "fsolve(func, x0, args=(), fprime=None, full_output=0, col_deriv=0, xtol=1.49012e-08, maxfev=0, band=None, epsfcn=None, factor=100, diag=None)\n",
      "    Find the roots of a function.\n",
      "    \n",
      "    Return the roots of the (non-linear) equations defined by\n",
      "    ``func(x) = 0`` given a starting estimate.\n",
      "    \n",
      "    Parameters\n",
      "    ----------\n",
      "    func : callable ``f(x, *args)``\n",
      "        A function that takes at least one (possibly vector) argument.\n",
      "    x0 : ndarray\n",
      "        The starting estimate for the roots of ``func(x) = 0``.\n",
      "    args : tuple, optional\n",
      "        Any extra arguments to `func`.\n",
      "    fprime : callable ``f(x, *args)``, optional\n",
      "        A function to compute the Jacobian of `func` with derivatives\n",
      "        across the rows. By default, the Jacobian will be estimated.\n",
      "    full_output : bool, optional\n",
      "        If True, return optional outputs.\n",
      "    col_deriv : bool, optional\n",
      "        Specify whether the Jacobian function computes derivatives down\n",
      "        the columns (faster, because there is no transpose operation).\n",
      "    xtol : float, optional\n",
      "        The calculation will terminate if the relative error between two\n",
      "        consecutive iterates is at most `xtol`.\n",
      "    maxfev : int, optional\n",
      "        The maximum number of calls to the function. If zero, then\n",
      "        ``100*(N+1)`` is the maximum where N is the number of elements\n",
      "        in `x0`.\n",
      "    band : tuple, optional\n",
      "        If set to a two-sequence containing the number of sub- and\n",
      "        super-diagonals within the band of the Jacobi matrix, the\n",
      "        Jacobi matrix is considered banded (only for ``fprime=None``).\n",
      "    epsfcn : float, optional\n",
      "        A suitable step length for the forward-difference\n",
      "        approximation of the Jacobian (for ``fprime=None``). If\n",
      "        `epsfcn` is less than the machine precision, it is assumed\n",
      "        that the relative errors in the functions are of the order of\n",
      "        the machine precision.\n",
      "    factor : float, optional\n",
      "        A parameter determining the initial step bound\n",
      "        (``factor * || diag * x||``).  Should be in the interval\n",
      "        ``(0.1, 100)``.\n",
      "    diag : sequence, optional\n",
      "        N positive entries that serve as a scale factors for the\n",
      "        variables.\n",
      "    \n",
      "    Returns\n",
      "    -------\n",
      "    x : ndarray\n",
      "        The solution (or the result of the last iteration for\n",
      "        an unsuccessful call).\n",
      "    infodict : dict\n",
      "        A dictionary of optional outputs with the keys:\n",
      "    \n",
      "        ``nfev``\n",
      "            number of function calls\n",
      "        ``njev``\n",
      "            number of Jacobian calls\n",
      "        ``fvec``\n",
      "            function evaluated at the output\n",
      "        ``fjac``\n",
      "            the orthogonal matrix, q, produced by the QR\n",
      "            factorization of the final approximate Jacobian\n",
      "            matrix, stored column wise\n",
      "        ``r``\n",
      "            upper triangular matrix produced by QR factorization\n",
      "            of the same matrix\n",
      "        ``qtf``\n",
      "            the vector ``(transpose(q) * fvec)``\n",
      "    \n",
      "    ier : int\n",
      "        An integer flag.  Set to 1 if a solution was found, otherwise refer\n",
      "        to `mesg` for more information.\n",
      "    mesg : str\n",
      "        If no solution is found, `mesg` details the cause of failure.\n",
      "    \n",
      "    See Also\n",
      "    --------\n",
      "    root : Interface to root finding algorithms for multivariate\n",
      "    functions. See the 'hybr' `method` in particular.\n",
      "    \n",
      "    Notes\n",
      "    -----\n",
      "    ``fsolve`` is a wrapper around MINPACK's hybrd and hybrj algorithms.\n",
      "\n"
     ]
    }
   ],
   "source": [
    "help(fsolve)"
   ]
  },
  {
   "cell_type": "code",
   "execution_count": 7,
   "metadata": {},
   "outputs": [
    {
     "data": {
      "text/plain": [
       "30"
      ]
     },
     "execution_count": 7,
     "metadata": {},
     "output_type": "execute_result"
    }
   ],
   "source": [
    "5*6"
   ]
  },
  {
   "cell_type": "code",
   "execution_count": 8,
   "metadata": {},
   "outputs": [
    {
     "data": {
      "text/plain": [
       "0"
      ]
     },
     "execution_count": 8,
     "metadata": {},
     "output_type": "execute_result"
    }
   ],
   "source": [
    "6%3"
   ]
  },
  {
   "cell_type": "code",
   "execution_count": 9,
   "metadata": {},
   "outputs": [],
   "source": [
    "import numpy as np\n",
    "from scipy import optimize,arange\n",
    "from scipy.optimize import fsolve\n",
    "from numpy import array\n",
    "import matplotlib.pyplot as plt\n",
    "%matplotlib inline"
   ]
  },
  {
   "cell_type": "code",
   "execution_count": 26,
   "metadata": {},
   "outputs": [
    {
     "name": "stdout",
     "output_type": "stream",
     "text": [
      "182.32123814600888\n",
      "182.32123814600888\n",
      "[182.32123814600888]\n",
      "[182.32123815   4.99999517   0.65070931   1.23212381]\n"
     ]
    }
   ],
   "source": [
    "# Model parameters (initial values)\n",
    "c = 0.75 # marginal propensity to consume\n",
    "b = 0.1 # sensitivity of investments for interest rate\n",
    "kappa_high = 1000000\n",
    "\n",
    "\n",
    "# Exogenous (parts of) variables (initial values)\n",
    "C0 = 15 # autonomous consumption\n",
    "I0 = 20 # autonomous investment\n",
    "G = 25\n",
    "T = 25\n",
    "iw = 5\n",
    "Yw = 100\n",
    "Pw = 1\n",
    "Ylr = 220\n",
    "Pe0 = 5\n",
    "M_old = 100\n",
    "\n",
    "\n",
    "\n",
    "# Equilibrium equations\n",
    "\n",
    "def equations(q):\n",
    "    Y = q[0]  # real GDP\n",
    "    i = q[1]  # interest rate\n",
    "    E = q[2]  # nominal exchange rate\n",
    "    P = q[3]  # general price level\n",
    "    Y, i, E, P = q\n",
    "\n",
    "    C = C0 + c*(Y-T)   # consumption function\n",
    "    I = I0 - b*i\n",
    "    R = (E*Pw)/P\n",
    "    EX = 0.1*Yw + 10*R\n",
    "    IM = 0.1*(Y-T)-10*R\n",
    "    CA = EX-IM\n",
    "    CP = kappa_high*(i-iw)\n",
    "    L = 0.5*Y - 2*i\n",
    "    \n",
    "    return (CA+CP,(M_old/P)-L,P-Pe0-(0.1*(Y-Ylr)),Y-C-I-G-EX+IM)\n",
    "\n",
    "k = fsolve(equations, (100,1,1,1))\n",
    "equations(k)\n",
    "print(k[0])\n",
    "print(q[0])\n",
    "Y=[]\n",
    "Y.append(q[0])\n",
    "print(Y)\n",
    "print(k)"
   ]
  },
  {
   "cell_type": "code",
   "execution_count": 23,
   "metadata": {},
   "outputs": [
    {
     "name": "stdout",
     "output_type": "stream",
     "text": [
      "[array([182.32123815,   4.99999517,   0.65070931,   1.23212381]), array([217.79046976,   4.9999863 ,   1.16166653,   1.01117079]), array([219.89361236,   4.99998578,   1.18626873,   1.00053194]), array([219.9949312 ,   4.99998575,   1.18744098,   1.00002506]), array([219.99975862,   4.99998575,   1.1874968 ,   1.00000092])]\n"
     ]
    }
   ],
   "source": [
    "def equa(q):\n",
    "    Y = q[0]  # real GDP\n",
    "    i = q[1]  # interest rate\n",
    "    E = q[2]  # nominal exchange rate\n",
    "    P = q[3]  # general price level\n",
    "    Y, i, E, P = q\n",
    "\n",
    "    C = C0 + c*(Y-T)   # consumption function\n",
    "    I = I0 - b*i\n",
    "    R = (E*Pw)/P\n",
    "    EX = 0.1*Yw + 10*R\n",
    "    IM = 0.1*(Y-T)-10*R\n",
    "    CA = EX-IM\n",
    "    CP = kappa_high*(i-iw)\n",
    "    L = 0.5*Y - 2*i\n",
    "    \n",
    "    return (CA+CP,(M_old/P)-L,P-1.23212381-(0.1*(Y-Ylr)),Y-C-I-G-EX+IM)\n",
    "\n",
    "f = fsolve(equa, (100,1,1,1))\n",
    "equa(f)\n",
    "#2\n",
    "def eq2(q):\n",
    "    Y = q[0]  # real GDP\n",
    "    i = q[1]  # interest rate\n",
    "    E = q[2]  # nominal exchange rate\n",
    "    P = q[3]  # general price level\n",
    "    Y, i, E, P = q\n",
    "\n",
    "    C = C0 + c*(Y-T)   # consumption function\n",
    "    I = I0 - b*i\n",
    "    R = (E*Pw)/P\n",
    "    EX = 0.1*Yw + 10*R\n",
    "    IM = 0.1*(Y-T)-10*R\n",
    "    CA = EX-IM\n",
    "    CP = kappa_high*(i-iw)\n",
    "    L = 0.5*Y - 2*i\n",
    "    \n",
    "    return (CA+CP,(M_old/P)-L,P-1.0111707-(0.1*(Y-Ylr)),Y-C-I-G-EX+IM)\n",
    "\n",
    "e = fsolve(eq2, (100,1,1,1))\n",
    "eq1(e)\n",
    "#3\n",
    "def eq3(q):\n",
    "    Y = q[0]  # real GDP\n",
    "    i = q[1]  # interest rate\n",
    "    E = q[2]  # nominal exchange rate\n",
    "    P = q[3]  # general price level\n",
    "    Y, i, E, P = q\n",
    "\n",
    "    C = C0 + c*(Y-T)   # consumption function\n",
    "    I = I0 - b*i\n",
    "    R = (E*Pw)/P\n",
    "    EX = 0.1*Yw + 10*R\n",
    "    IM = 0.1*(Y-T)-10*R\n",
    "    CA = EX-IM\n",
    "    CP = kappa_high*(i-iw)\n",
    "    L = 0.5*Y - 2*i\n",
    "    \n",
    "    return (CA+CP,(M_old/P)-L,P-1.00053194-(0.1*(Y-Ylr)),Y-C-I-G-EX+IM)\n",
    "\n",
    "m = fsolve(eq3, (100,1,1,1))\n",
    "eq3(m)\n",
    "#4\n",
    "def eq4(q):\n",
    "    Y = q[0]  # real GDP\n",
    "    i = q[1]  # interest rate\n",
    "    E = q[2]  # nominal exchange rate\n",
    "    P = q[3]  # general price level\n",
    "    Y, i, E, P = q\n",
    "\n",
    "    C = C0 + c*(Y-T)   # consumption function\n",
    "    I = I0 - b*i\n",
    "    R = (E*Pw)/P\n",
    "    EX = 0.1*Yw + 10*R\n",
    "    IM = 0.1*(Y-T)-10*R\n",
    "    CA = EX-IM\n",
    "    CP = kappa_high*(i-iw)\n",
    "    L = 0.5*Y - 2*i\n",
    "    \n",
    "    return (CA+CP,(M_old/P)-L,P-1.00002506-(0.1*(Y-Ylr)),Y-C-I-G-EX+IM)\n",
    "\n",
    "l = fsolve(eq4, (100,1,1,1))\n",
    "eq4(l)\n",
    "\n",
    "q=[]\n",
    "q.append(k)\n",
    "q.append(f)\n",
    "q.append(e)\n",
    "q.append(m)\n",
    "q.append(l)\n",
    "\n",
    "print(q)\n"
   ]
  },
  {
   "cell_type": "code",
   "execution_count": null,
   "metadata": {},
   "outputs": [],
   "source": []
  },
  {
   "cell_type": "code",
   "execution_count": null,
   "metadata": {},
   "outputs": [],
   "source": []
  }
 ],
 "metadata": {
  "kernelspec": {
   "display_name": "Python 3",
   "language": "python",
   "name": "python3"
  },
  "language_info": {
   "codemirror_mode": {
    "name": "ipython",
    "version": 3
   },
   "file_extension": ".py",
   "mimetype": "text/x-python",
   "name": "python",
   "nbconvert_exporter": "python",
   "pygments_lexer": "ipython3",
   "version": "3.5.3"
  }
 },
 "nbformat": 4,
 "nbformat_minor": 2
}
